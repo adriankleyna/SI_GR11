{
 "metadata": {
  "language_info": {
   "codemirror_mode": {
    "name": "ipython",
    "version": 3
   },
   "file_extension": ".py",
   "mimetype": "text/x-python",
   "name": "python",
   "nbconvert_exporter": "python",
   "pygments_lexer": "ipython3",
   "version": 3
  },
  "orig_nbformat": 2
 },
 "nbformat": 4,
 "nbformat_minor": 2,
 "cells": [
  {
   "cell_type": "code",
   "execution_count": null,
   "metadata": {},
   "outputs": [],
   "source": [
    "print(\"*\"*50)\n",
    "print(\"PAMIEC FP\")\n",
    "for x in range(hms):\n",
    "    print(fp[x])\n",
    "print(\"*\"*50)\n",
    "print(\"PAMIEC HM PO FP\")\n",
    "for x in range(hms):\n",
    "    print(hm[x])\n",
    "\n",
    "print(\"*\"*50)\n",
    "print(\"PAMIEC FP\")\n",
    "for x in range(hms):\n",
    "    print(fp[x])"
   ]
  }
 ]
}