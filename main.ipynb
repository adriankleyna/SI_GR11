{
 "cells": [
  {
   "cell_type": "code",
   "execution_count": 6,
   "metadata": {
    "tags": []
   },
   "outputs": [
    {
     "output_type": "stream",
     "name": "stdout",
     "text": [
      "[7985.85, 4391.15, 1222.93, 169.46, 2080.35, 11200.64, 416.69, 1370.68, 243.81, 2789.64]\n[8851.27, 21606.76, 15290.31, 1165.64, 781.52, 13148.95, 1721.9, 903.17, 4497.54, 772.66]\n[131.32, 1390.11, 1393.72, 1155.88, 1459.71, 3477.57, 770.6, 343.71, 3357.41, 2103.29]\n[11385.37, 2586.31, 2783.29, 83.31, 1177.38, 1440.52, 7409.07, 1254.33, 2888.5, 1376.22]\n[929.57, 6920.6, 1244.05, 1262.0, 3365.97, 4291.58, 471.35, 2213.43, 642.7, 4553.08]\n[12897.74, 3708.93, 1597.84, 803.77, 1220.64, 474.18, 10562.2, 2416.58, 97.14, 10322.44]\n[1171.19, 258.08, 7759.98, 7018.66, 9089.78, 1000.14, 2238.01, 16987.08, 1311.38, 311.83]\n[4139.56, 1100.97, 12897.74, 4429.05, 498.82, 1120.99, 890.95, 9113.74, 3868.2, 843.04]\n[436.16, 5224.7, 7340.54, 341.31, 2924.0, 8412.15, 4089.25, 10584.35, 510.23, 221.6]\n[12186.07, 3874.36, 2438.54, 1183.16, 5945.57, 898.58, 285.07, 418.8, 5000.36, 1716.33]\n[1098.17, 2034.54, 5803.0, 4000.18, 12423.9, 10426.37, 1670.16, 4171.21, 763.9, 1216.23]\n[6769.2, 49.82, 175.64, 11210.52, 7264.01, 14012.04, 1848.42, 148.44, 5881.15, 464.44]\n[1632.31, 498.21, 575.05, 10052.28, 450.81, 1621.84, 822.53, 126.64, 3105.95, 2574.48]\n[8971.17, 11065.88, 4476.31, 1189.43, 2960.21, 3347.36, 566.8, 2178.91, 1915.63, 479.49]\n[2686.21, 1812.56, 183.23, 2336.26, 2551.25, 651.94, 877.63, 8390.81, 515.62, 1439.28]\n[225.2, 1816.72, 882.46, 886.11, 3919.17, 4743.71, 1736.39, 4668.69, 264.18, 5905.72]\n[10144.65, 1028.84, 100.93, 4556.95, 530.64, 2279.85, 221.01, 3235.18, 11221.03, 18157.94]\n[5218.39, 1770.74, 14057.78, 1413.3, 6282.22, 74.49, 3282.82, 3831.77, 886.11, 755.61]\n[2686.62, 3672.9, 9089.02, 179.51, 1427.8, 2745.99, 5317.47, 1962.93, 1089.27, 9375.43]\n[3585.71, 3947.1, 1482.77, 7371.64, 16184.26, 11739.53, 5915.99, 10899.97, 11.97, 2542.87]\nNOWY WIERSZ HM\n[131.32, 49.82, 4476.31, 10052.28, 498.82, 4291.58, 416.69, 10584.35, 510.23, 311.83]\nNOWY WIERSZ HM\n[131.32, 21606.76, 15290.31, 83.31, 1177.38, 898.58, 4089.25, 4171.21, 11221.03, 1376.22]\nNOWY WIERSZ HM\n[11385.37, 1028.84, 1597.84, 4556.95, 7264.01, 4291.58, 2238.01, 8390.81, 243.81, 2574.48]\nNOWY WIERSZ HM\n[131.32, 21606.76, 100.93, 341.31, 1220.64, 2279.85, 416.69, 2178.91, 510.23, 2789.64]\nNOWY WIERSZ HM\n[1098.17, 11065.88, 175.64, 1183.16, 9089.78, 2279.85, 1848.42, 9113.74, 515.62, 755.61]\nNOWY WIERSZ HM\n[8851.27, 3874.36, 4476.31, 4556.95, 2924.0, 1120.99, 822.53, 4668.69, 1089.27, 4553.08]\nNOWY WIERSZ HM\n[12897.74, 3672.9, 1597.84, 169.46, 1220.64, 1440.52, 221.01, 2416.58, 1915.63, 464.44]\nNOWY WIERSZ HM\n[2686.62, 1028.84, 14057.78, 169.46, 1220.64, 2745.99, 770.6, 9113.74, 515.62, 479.49]\nNOWY WIERSZ HM\n[436.16, 21606.76, 2438.54, 4556.95, 530.64, 4743.71, 877.63, 4668.69, 2888.5, 755.61]\nNOWY WIERSZ HM\n[4139.56, 2586.31, 882.46, 4000.18, 781.52, 11200.64, 566.8, 4668.69, 886.11, 1716.33]\nNOWY WIERSZ HM\n[11385.37, 3708.93, 2438.54, 4000.18, 6282.22, 1621.84, 877.63, 3831.77, 642.7, 311.83]\nNOWY WIERSZ HM\n[131.32, 11065.88, 1222.93, 2336.26, 3919.17, 1621.84, 285.07, 16987.08, 1089.27, 311.83]\nNOWY WIERSZ HM\n[2686.21, 3708.93, 183.23, 886.11, 1459.71, 4743.71, 416.69, 10584.35, 3868.2, 9375.43]\nNOWY WIERSZ HM\n[8851.27, 5224.7, 1244.05, 2336.26, 2080.35, 2745.99, 416.69, 8390.81, 1915.63, 10322.44]\nNOWY WIERSZ HM\n[2686.62, 21606.76, 9089.02, 83.31, 498.82, 14012.04, 221.01, 1962.93, 264.18, 1439.28]\nNOWY WIERSZ HM\n[11385.37, 5224.7, 100.93, 179.51, 498.82, 74.49, 890.95, 2178.91, 886.11, 10322.44]\nNOWY WIERSZ HM\n[12897.74, 258.08, 183.23, 1189.43, 2080.35, 13148.95, 2238.01, 3831.77, 3868.2, 1716.33]\nNOWY WIERSZ HM\n[7985.85, 11065.88, 2438.54, 1189.43, 450.81, 898.58, 877.63, 1962.93, 5000.36, 311.83]\nNOWY WIERSZ HM\n[929.57, 1390.11, 4476.31, 341.31, 498.82, 2745.99, 10562.2, 16987.08, 264.18, 843.04]\nNOWY WIERSZ HM\n[131.32, 3708.93, 1597.84, 341.31, 2960.21, 1120.99, 3282.82, 418.8, 515.62, 2789.64]\n"
     ]
    }
   ],
   "source": [
    "import json\n",
    "import numpy\n",
    "import random\n",
    "\n",
    "def fitness(rowSize,capacityMax):\n",
    "   return capacityMax-rowSize\n",
    "\n",
    "zakres_rozwiazan=20\n",
    "zakres_paczek_w_rozwiazaniu=10\n",
    "hm = [] #harmonic memory\n",
    "hms = 20 \n",
    "fp = [] #funkcja przystosowania\n",
    "capacityMax=40000 #cm^3\n",
    "iter_hms=0\n",
    "hmcr=70\n",
    "temp=0;\n",
    "temp_list=[]\n",
    "new_hm_row=[]\n",
    "allData = [] # all json data 20000 records\n",
    "\n",
    "\n",
    "\n",
    "with open('C:/Users/hubert1/Desktop/PWJS/Lab7_18869_Drzymalski/SI_GR11/hm.json') as f:\n",
    "   hm = json.load(f)\n",
    "\n",
    "\n",
    "with open('C:/Users/hubert1/Desktop/PWJS/Lab7_18869_Drzymalski/SI_GR11/dataSet.json') as f:\n",
    "   allData = json.load(f)\n",
    "\n",
    "for x in range(hms):\n",
    "    print(hm[x])\n",
    "\n",
    "iterator = 0\n",
    "while(iterator < hms):\n",
    "   for x in range(ilosc_paczek_w_rozwiazaniu):\n",
    "      temp = hm[iterator][x]\n",
    "      sum = sum + temp\n",
    "   sum = round(sum,2)\n",
    "   fp.append(fitness(sum,capacityMax))\n",
    "   sum=0\n",
    "   iterator = iterator + 1\n",
    "\n",
    "while(iter_hms<hms):\n",
    "   if(0<hmcr):\n",
    "      while(temp<zakres_paczek_w_rozwiazaniu):\n",
    "         for x in range(zakres_rozwiazan-1): \n",
    "            temp_list.append(hm[x][temp])\n",
    "         temp=temp+1\n",
    "         new_hm_row.append(random.choice(temp_list))\n",
    "         temp_list.clear()\n",
    "   else:\n",
    "      while(temp<zakres_paczek_w_rozwiazaniu):\n",
    "         randomNumber=random.randint(0,19999)\n",
    "         tempVolume=float(allData[randomNumber]['sizeX'])*float(allData[randomNumber]['sizeY'])*float(allData[randomNumber]['sizeZ'])\n",
    "         tempVolume=round(tempVolume,2) \n",
    "         temp=temp+1\n",
    "         new_hm_row.append(tempVolume)\n",
    "         tempVolume=0\n",
    "   #dodaj porównywanie fitnesu nowego wiersza z starymi i jak bedzie lepszy to podmien w pamieci hm najgroszy z aktulanym\n",
    "   #wiersz w pamieci bedzie mial ten sam indeks co funckja porzystosowania\n",
    "   print(\"NOWY WIERSZ HM\")\n",
    "   print(new_hm_row)\n",
    "   temp=0\n",
    "   new_hm_row.clear()\n",
    "   temp_list.clear()\n",
    "   iter_hms=iter_hms+1   "
   ]
  }
 ],
 "metadata": {
  "kernelspec": {
   "display_name": "Python 3",
   "name": "python3",
   "language": "python"
  },
  "language_info": {
   "codemirror_mode": {
    "name": "ipython",
    "version": 3
   },
   "file_extension": ".py",
   "mimetype": "text/x-python",
   "name": "python",
   "nbconvert_exporter": "python",
   "pygments_lexer": "ipython3",
   "version": "3.7.3-final"
  },
  "metadata": {
   "interpreter": {
    "hash": "38740d3277777e2cd7c6c2cc9d8addf5118fdf3f82b1b39231fd12aeac8aee8b"
   }
  },
  "orig_nbformat": 2
 },
 "nbformat": 4,
 "nbformat_minor": 2
}