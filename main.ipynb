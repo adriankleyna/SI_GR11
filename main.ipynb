{
 "metadata": {
  "language_info": {
   "codemirror_mode": {
    "name": "ipython",
    "version": 3
   },
   "file_extension": ".py",
   "mimetype": "text/x-python",
   "name": "python",
   "nbconvert_exporter": "python",
   "pygments_lexer": "ipython3",
   "version": "3.7.3-final"
  },
  "orig_nbformat": 2,
  "kernelspec": {
   "name": "python3",
   "display_name": "Python 3",
   "language": "python"
  }
 },
 "nbformat": 4,
 "nbformat_minor": 2,
 "cells": [
  {
   "cell_type": "code",
   "execution_count": 70,
   "metadata": {
    "tags": []
   },
   "outputs": [
    {
     "output_type": "stream",
     "name": "stdout",
     "text": [
      "ID\n[[6082, 5026, 6723, 2794], [10676, 18036, 14401, 51], [11880, 18410, 1837, 260], [8797, 19455, 2245, 6322], [5541, 13190, 5865, 4015]]\n\n\nWAGI KAZDEGO WIERSZA MACIERZY HM\n[[4956.599999999999], [11394.94], [14264.29], [18783.510000000002], [10378.39]]\n\n\nWAGI KAZDEJ PACZKI\n[[202.01, 1136.67, 2670.6, 947.32], [18.88, 796.58, 7992.74, 2586.74], [2790.86, 6766.7, 473.7, 4233.03], [13731.52, 3887.36, 1092.32, 72.31], [187.14, 5574.76, 4042.2, 574.29]]\n\n\n"
     ]
    }
   ],
   "source": [
    "import json\n",
    "import numpy\n",
    "import random\n",
    "\n",
    "temp=0;\n",
    "sum=0;\n",
    "\n",
    "with open('C:/Users/hubert1/Desktop/PWJS/Lab7_18869_Drzymalski/SI_GR11/dataSet.json') as f:\n",
    "  data = json.load(f)\n",
    "\n",
    "matrix_id = [[0]*4 for i in range(5)]\n",
    "matrix_size_each = [[0]*4 for i in range(5)]\n",
    "\n",
    "for x in range(5):\n",
    "    for y in range(4):\n",
    "        matrix_id[x][y]=random.choice(data)['id']\n",
    "\n",
    "\n",
    "matrix_size=[[0]*1 for i in range(5)]\n",
    "for x in range(5):\n",
    "    for y in range(4):\n",
    "        temp=float(data[matrix_id[x][y]]['sizeX'])*float(data[matrix_id[x][y]]['sizeY'])*float(data[matrix_id[x][y]]['sizeZ'])\n",
    "        temp=round(temp,2)\n",
    "        matrix_size_each[x][y]=temp\n",
    "        sum=sum+temp;\n",
    "    matrix_size[x][0]=sum\n",
    "    sum=0\n",
    "    temp=0\n",
    "\n",
    "print(\"ID\")\n",
    "print(matrix_id)\n",
    "print(\"\\n\")\n",
    "print(\"WAGI KAZDEGO WIERSZA MACIERZY HM\")\n",
    "print(matrix_size)\n",
    "print(\"\\n\")\n",
    "print(\"WAGI KAZDEJ PACZKI\")\n",
    "print(matrix_size_each)\n",
    "print(\"\\n\")\n",
    "\n",
    "\n",
    "# for f in data:\n",
    "#     print(f)"
   ]
  }
 ]
}