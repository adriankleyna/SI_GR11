{
 "metadata": {
  "language_info": {
   "codemirror_mode": {
    "name": "ipython",
    "version": 3
   },
   "file_extension": ".py",
   "mimetype": "text/x-python",
   "name": "python",
   "nbconvert_exporter": "python",
   "pygments_lexer": "ipython3",
   "version": "3.7.3-final"
  },
  "orig_nbformat": 2,
  "kernelspec": {
   "name": "python3",
   "display_name": "Python 3",
   "language": "python"
  }
 },
 "nbformat": 4,
 "nbformat_minor": 2,
 "cells": [
  {
   "cell_type": "code",
   "execution_count": 65,
   "metadata": {
    "tags": []
   },
   "outputs": [
    {
     "output_type": "stream",
     "name": "stdout",
     "text": [
      "ID\n[[8033, 19921, 16488, 18075], [18126, 7337, 15582, 3410], [2827, 12402, 4, 2348], [17968, 19961, 4566, 16823], [17268, 14207, 8068, 17149]]\n\n\nWAGI KAZDEGO WIERSZA MACIERZY HM\n[[2797.59], [23653.88], [12791.130000000001], [2541.68], [7353.330000000001]]\n\n\nWAGI KAZDEJ PACZKI\n[[1849.97, 125.91, 507.4, 314.31], [10090.91, 642.61, 8271.99, 4648.37], [3803.95, 609.65, 5252.4, 3125.13], [57.42, 811.82, 661.86, 1010.58], [6673.68, 296.29, 82.02, 301.34]]\n\n\n"
     ]
    }
   ],
   "source": [
    "import json\n",
    "import numpy\n",
    "import random\n",
    "from decimal import getcontext, Decimal\n",
    "\n",
    "getcontext().prec = 3\n",
    "temp=0;\n",
    "sum=0;\n",
    "\n",
    "with open('C:/Users/hubert1/Desktop/PWJS/Lab7_18869_Drzymalski/SI_GR11/dataSet.json') as f:\n",
    "  data = json.load(f)\n",
    "\n",
    "matrix_id = [[0]*4 for i in range(5)]\n",
    "matrix_size_each = [[0]*4 for i in range(5)]\n",
    "\n",
    "for x in range(5):\n",
    "    for y in range(4):\n",
    "        matrix_id[x][y]=random.choice(data)['id']\n",
    "\n",
    "\n",
    "matrix_size=[[0]*1 for i in range(5)]\n",
    "for x in range(5):\n",
    "    for y in range(4):\n",
    "        temp=float(data[matrix_id[x][y]]['sizeX'])*float(data[matrix_id[x][y]]['sizeY'])*float(data[matrix_id[x][y]]['sizeZ'])\n",
    "        temp=round(temp,2)\n",
    "        matrix_size_each[x][y]=temp\n",
    "        sum=sum+temp;\n",
    "    matrix_size[x][0]=sum\n",
    "    sum=0\n",
    "    temp=0\n",
    "\n",
    "print(\"ID\")\n",
    "print(matrix_id)\n",
    "print(\"\\n\")\n",
    "print(\"WAGI KAZDEGO WIERSZA MACIERZY HM\")\n",
    "print(matrix_size)\n",
    "print(\"\\n\")\n",
    "print(\"WAGI KAZDEJ PACZKI\")\n",
    "print(matrix_size_each)\n",
    "print(\"\\n\")\n",
    "\n",
    "\n",
    "# for f in data:\n",
    "#     print(f)"
   ]
  }
 ]
}