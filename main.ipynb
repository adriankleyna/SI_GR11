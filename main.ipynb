{
 "cells": [
  {
   "cell_type": "code",
   "execution_count": 4,
   "metadata": {
    "tags": []
   },
   "outputs": [
    {
     "output_type": "stream",
     "name": "stdout",
     "text": [
      "[7985.85, 4391.15, 1222.93, 169.46, 2080.35, 11200.64, 416.69, 1370.68, 243.81, 2789.64]\n[8851.27, 21606.76, 15290.31, 1165.64, 781.52, 13148.95, 1721.9, 903.17, 4497.54, 772.66]\n[131.32, 1390.11, 1393.72, 1155.88, 1459.71, 3477.57, 770.6, 343.71, 3357.41, 2103.29]\n[11385.37, 2586.31, 2783.29, 83.31, 1177.38, 1440.52, 7409.07, 1254.33, 2888.5, 1376.22]\n[929.57, 6920.6, 1244.05, 1262.0, 3365.97, 4291.58, 471.35, 2213.43, 642.7, 4553.08]\n[12897.74, 3708.93, 1597.84, 803.77, 1220.64, 474.18, 10562.2, 2416.58, 97.14, 10322.44]\n[1171.19, 258.08, 7759.98, 7018.66, 9089.78, 1000.14, 2238.01, 16987.08, 1311.38, 311.83]\n[4139.56, 1100.97, 12897.74, 4429.05, 498.82, 1120.99, 890.95, 9113.74, 3868.2, 843.04]\n[436.16, 5224.7, 7340.54, 341.31, 2924.0, 8412.15, 4089.25, 10584.35, 510.23, 221.6]\n[12186.07, 3874.36, 2438.54, 1183.16, 5945.57, 898.58, 285.07, 418.8, 5000.36, 1716.33]\n[1098.17, 2034.54, 5803.0, 4000.18, 12423.9, 10426.37, 1670.16, 4171.21, 763.9, 1216.23]\n[6769.2, 49.82, 175.64, 11210.52, 7264.01, 14012.04, 1848.42, 148.44, 5881.15, 464.44]\n[1632.31, 498.21, 575.05, 10052.28, 450.81, 1621.84, 822.53, 126.64, 3105.95, 2574.48]\n[8971.17, 11065.88, 4476.31, 1189.43, 2960.21, 3347.36, 566.8, 2178.91, 1915.63, 479.49]\n[2686.21, 1812.56, 183.23, 2336.26, 2551.25, 651.94, 877.63, 8390.81, 515.62, 1439.28]\n[225.2, 1816.72, 882.46, 886.11, 3919.17, 4743.71, 1736.39, 4668.69, 264.18, 5905.72]\n[10144.65, 1028.84, 100.93, 4556.95, 530.64, 2279.85, 221.01, 3235.18, 11221.03, 18157.94]\n[5218.39, 1770.74, 14057.78, 1413.3, 6282.22, 74.49, 3282.82, 3831.77, 886.11, 755.61]\n[2686.62, 3672.9, 9089.02, 179.51, 1427.8, 2745.99, 5317.47, 1962.93, 1089.27, 9375.43]\n[3585.71, 3947.1, 1482.77, 7371.64, 16184.26, 11739.53, 5915.99, 10899.97, 11.97, 2542.87]\nNOWY WIERSZ HM\n[131.32, 1390.11, 575.05, 4000.18, 1177.38, 898.58, 7409.07, 343.71, 3105.95, 221.6]\nwielkosc : 19252.949999999997\nNOWY WIERSZ HM\n[8971.17, 3874.36, 9089.02, 1183.16, 2924.0, 2745.99, 770.6, 126.64, 1915.63, 2574.48]\nwielkosc : 34175.05\nNOWY WIERSZ HM\n[6769.2, 21606.76, 575.05, 11210.52, 1459.71, 4743.71, 7409.07, 148.44, 2888.5, 221.6]\nwielkosc : 57032.56\nNOWY WIERSZ HM\n[929.57, 2034.54, 12897.74, 1155.88, 1459.71, 3477.57, 2238.01, 903.17, 3868.2, 1216.23]\nwielkosc : 30180.619999999995\nNOWY WIERSZ HM\n[3563.82, 5867.84, 563.04, 1618.36, 3026.35, 1643.44, 271.47, 4216.21, 488.78, 259.35]\nwielkosc : 21518.66\nNOWY WIERSZ HM\n[225.2, 11065.88, 12897.74, 1262.0, 1177.38, 10426.37, 1721.9, 2416.58, 5881.15, 2103.29]\nwielkosc : 49177.490000000005\nNOWY WIERSZ HM\n[6769.2, 11065.88, 175.64, 341.31, 2551.25, 13148.95, 221.01, 1254.33, 3357.41, 1716.33]\nwielkosc : 40601.31\nNOWY WIERSZ HM\n[10144.65, 498.21, 100.93, 11210.52, 2551.25, 10426.37, 1848.42, 1370.68, 11221.03, 5905.72]\nwielkosc : 55277.78\nNOWY WIERSZ HM\n[983.82, 11371.53, 3350.34, 2012.04, 288.33, 6472.78, 2662.31, 205.4, 676.35, 1656.3]\nwielkosc : 29679.2\nNOWY WIERSZ HM\n[225.2, 1390.11, 1597.84, 7018.66, 498.82, 651.94, 4089.25, 418.8, 1089.27, 10322.44]\nwielkosc : 27302.33\nNOWY WIERSZ HM\n[12897.74, 1812.56, 14057.78, 179.51, 5945.57, 1000.14, 566.8, 3831.77, 3357.41, 1439.28]\nwielkosc : 45088.56\nNOWY WIERSZ HM\n[1171.19, 3874.36, 7340.54, 169.46, 530.64, 2279.85, 1736.39, 3831.77, 1915.63, 843.04]\nwielkosc : 23692.870000000003\nNOWY WIERSZ HM\n[3412.57, 6236.94, 11010.63, 7942.41, 1477.66, 10661.3, 3904.07, 13245.98, 8011.79, 683.73]\nwielkosc : 66587.07999999999\nNOWY WIERSZ HM\n[12897.74, 49.82, 882.46, 83.31, 530.64, 898.58, 7409.07, 903.17, 5000.36, 10322.44]\nwielkosc : 38977.59\nNOWY WIERSZ HM\n[7985.85, 11065.88, 1222.93, 1262.0, 12423.9, 1621.84, 471.35, 2178.91, 11221.03, 1716.33]\nwielkosc : 51170.01999999999\nNOWY WIERSZ HM\n[10144.65, 498.21, 5803.0, 83.31, 3365.97, 10426.37, 890.95, 148.44, 243.81, 18157.94]\nwielkosc : 49762.65\nNOWY WIERSZ HM\n[1081.09, 352.16, 5819.01, 855.81, 4692.93, 3415.01, 2860.02, 697.91, 469.52, 1128.34]\nwielkosc : 21371.8\nNOWY WIERSZ HM\n[436.16, 3708.93, 2438.54, 803.77, 3919.17, 4743.71, 285.07, 418.8, 4497.54, 221.6]\nwielkosc : 21473.289999999997\nNOWY WIERSZ HM\n[2686.21, 3672.9, 9089.02, 7018.66, 2924.0, 13148.95, 1736.39, 4171.21, 5881.15, 772.66]\nwielkosc : 51101.15000000001\nNOWY WIERSZ HM\n[1171.19, 49.82, 1222.93, 1165.64, 781.52, 651.94, 5317.47, 2213.43, 515.62, 9375.43]\nwielkosc : 22464.990000000005\n[38128.8, 1260.2799999999988, 54416.68, 37615.7, 44105.67, 25898.54, 22853.870000000003, 31096.940000000002, 29915.71, 36053.16, 26392.339999999997, 22176.32, 48539.9, 32848.81, 48555.21, 44951.65, 18522.980000000003, 32426.769999999997, 32453.059999999998, 6318.190000000002]\n"
     ]
    }
   ],
   "source": [
    "import json\n",
    "import numpy\n",
    "import random\n",
    "\n",
    "def fitness(rowSize,capacityMax):\n",
    "   return capacityMax-rowSize\n",
    "\n",
    "zakres_rozwiazan=20\n",
    "zakres_paczek_w_rozwiazaniu=10\n",
    "hm = [] #harmonic memory\n",
    "hms = 20 \n",
    "fp = [] #funkcja przystosowania\n",
    "capacityMax=70000 #cm^3\n",
    "iter_hms=0\n",
    "hmcr=70\n",
    "temp=0;\n",
    "temp_list=[]\n",
    "new_hm_row=[]\n",
    "allData = [] # all json data 20000 records\n",
    "suma=0\n",
    "capacityCheck=0\n",
    "\n",
    "\n",
    "\n",
    "with open('C:/Users/hubert1/Desktop/PWJS/Lab7_18869_Drzymalski/SI_GR11/hm.json') as f:\n",
    "   hm = json.load(f)\n",
    "\n",
    "\n",
    "with open('C:/Users/hubert1/Desktop/PWJS/Lab7_18869_Drzymalski/SI_GR11/dataSet.json') as f:\n",
    "   allData = json.load(f)\n",
    "\n",
    "for x in range(hms):\n",
    "    print(hm[x])\n",
    "\n",
    "\n",
    "iterator = 0\n",
    "while(iterator < hms):\n",
    "   for x in range(zakres_paczek_w_rozwiazaniu):\n",
    "      tempRR = hm[iterator][x]\n",
    "      suma = suma + tempRR\n",
    "   suma = round(suma,2)\n",
    "   fp.append(fitness(suma,capacityMax))\n",
    "   suma=0 \n",
    "   iterator = iterator + 1\n",
    "\n",
    "while(iter_hms<hms):\n",
    "   if(random.randint(1,100)<hmcr):\n",
    "      while(temp<zakres_paczek_w_rozwiazaniu):\n",
    "         for x in range(zakres_rozwiazan-1): \n",
    "            temp_list.append(hm[x][temp])\n",
    "         value=random.choice(temp_list)\n",
    "         if(capacityCheck+value<=capacityMax):\n",
    "            new_hm_row.append(value)\n",
    "            temp=temp+1\n",
    "            capacityCheck=capacityCheck+value\n",
    "         temp_list.clear()\n",
    "   else:\n",
    "      while(temp<zakres_paczek_w_rozwiazaniu):\n",
    "         randomNumber=random.randint(0,19999)\n",
    "         tempVolume=float(allData[randomNumber]['sizeX'])*float(allData[randomNumber]['sizeY'])*float(allData[randomNumber]['sizeZ'])\n",
    "         tempVolume=round(tempVolume,2)\n",
    "         if(capacityCheck+tempVolume<=capacityMax):\n",
    "            temp=temp+1\n",
    "            new_hm_row.append(tempVolume)\n",
    "            capacityCheck=capacityCheck+tempVolume\n",
    "         tempVolume=0\n",
    "   #dodaj porównywanie fitnesu nowego wiersza z starymi i jak bedzie lepszy to podmien w pamieci hm najgroszy z aktulanym\n",
    "   #wiersz w pamieci bedzie mial ten sam indeks co funckja porzystosowania\n",
    "   #zrobic cos z ograniczeniami bo slabo jest || DONE\n",
    "   print(\"NOWY WIERSZ HM\")\n",
    "   print(new_hm_row)\n",
    "   print(\"wielkosc : \"+str(capacityCheck))\n",
    "   temp=0\n",
    "   new_hm_row.clear()\n",
    "   temp_list.clear()\n",
    "   iter_hms=iter_hms+1\n",
    "   capacityCheck=0\n",
    "print(fp)   "
   ]
  },
  {
   "cell_type": "code",
   "execution_count": 4,
   "metadata": {},
   "outputs": [],
   "source": [
    "\n"
   ]
  }
 ],
 "metadata": {
  "kernelspec": {
   "display_name": "Python 3",
   "name": "python3",
   "language": "python"
  },
  "language_info": {
   "codemirror_mode": {
    "name": "ipython",
    "version": 3
   },
   "file_extension": ".py",
   "mimetype": "text/x-python",
   "name": "python",
   "nbconvert_exporter": "python",
   "pygments_lexer": "ipython3",
   "version": "3.7.3-final"
  },
  "metadata": {
   "interpreter": {
    "hash": "38740d3277777e2cd7c6c2cc9d8addf5118fdf3f82b1b39231fd12aeac8aee8b"
   }
  },
  "orig_nbformat": 2
 },
 "nbformat": 4,
 "nbformat_minor": 2
}