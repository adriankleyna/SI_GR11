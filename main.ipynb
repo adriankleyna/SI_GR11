{
 "metadata": {
  "language_info": {
   "codemirror_mode": {
    "name": "ipython",
    "version": 3
   },
   "file_extension": ".py",
   "mimetype": "text/x-python",
   "name": "python",
   "nbconvert_exporter": "python",
   "pygments_lexer": "ipython3",
   "version": "3.7.3-final"
  },
  "orig_nbformat": 2,
  "kernelspec": {
   "name": "python3",
   "display_name": "Python 3",
   "language": "python"
  }
 },
 "nbformat": 4,
 "nbformat_minor": 2,
 "cells": [
  {
   "cell_type": "code",
   "execution_count": 71,
   "metadata": {
    "tags": []
   },
   "outputs": [
    {
     "output_type": "stream",
     "name": "stdout",
     "text": [
      "ID\n[[17778, 19041, 2160, 5681], [9184, 9672, 2846, 9922], [17823, 15668, 5318, 2347], [2751, 10303, 14537, 13444], [1917, 2644, 16759, 17953]]\n\n\nWAGI KAZDEGO WIERSZA MACIERZY HM\n[[7939.93], [18564.829999999998], [24611.21], [8872.96], [19400.219999999998]]\n\n\nWAGI KAZDEJ PACZKI\n[[123.77, 4264.36, 3024.12, 527.68], [4043.08, 1903.66, 7688.97, 4929.12], [6776.46, 11199.73, 754.25, 5880.77], [1366.37, 722.66, 2176.71, 4607.22], [65.89, 3555.95, 14822.72, 955.66]]\n\n\n"
     ]
    }
   ],
   "source": [
    "import json\n",
    "import numpy\n",
    "import random\n",
    "\n",
    "temp=0;\n",
    "sum=0;\n",
    "\n",
    "zakres_x=5\n",
    "zakres_y=4\n",
    "\n",
    "with open('C:/Users/hubert1/Desktop/PWJS/Lab7_18869_Drzymalski/SI_GR11/dataSet.json') as f:\n",
    "  data = json.load(f)\n",
    "\n",
    "matrix_id = [[0]*zakres_y for i in range(zakres_x)]\n",
    "matrix_size_each = [[0]*zakres_y for i in range(zakres_x)]\n",
    "\n",
    "for x in range(zakres_x):\n",
    "    for y in range(zakres_y):\n",
    "        matrix_id[x][y]=random.choice(data)['id']\n",
    "\n",
    "\n",
    "matrix_size=[[0]*1 for i in range(zakres_x)]\n",
    "for x in range(zakres_x):\n",
    "    for y in range(zakres_y):\n",
    "        temp=float(data[matrix_id[x][y]]['sizeX'])*float(data[matrix_id[x][y]]['sizeY'])*float(data[matrix_id[x][y]]['sizeZ'])\n",
    "        temp=round(temp,2)\n",
    "        matrix_size_each[x][y]=temp\n",
    "        sum=sum+temp;\n",
    "    matrix_size[x][0]=sum\n",
    "    sum=0\n",
    "    temp=0\n",
    "\n",
    "print(\"ID\")\n",
    "print(matrix_id)\n",
    "print(\"\\n\")\n",
    "print(\"WAGI KAZDEGO WIERSZA MACIERZY HM\")\n",
    "print(matrix_size)\n",
    "print(\"\\n\")\n",
    "print(\"WAGI KAZDEJ PACZKI\")\n",
    "print(matrix_size_each)\n",
    "print(\"\\n\")\n",
    "\n",
    "\n",
    "# for f in data:\n",
    "#     print(f)"
   ]
  }
 ]
}