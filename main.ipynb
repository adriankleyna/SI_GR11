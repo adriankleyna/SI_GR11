{
 "cells": [
  {
   "cell_type": "code",
   "execution_count": 1,
   "metadata": {
    "tags": []
   },
   "outputs": [
    {
     "output_type": "stream",
     "name": "stdout",
     "text": [
      "[7985.85, 4391.15, 1222.93, 169.46, 2080.35, 11200.64, 416.69, 1370.68, 243.81, 2789.64]\n[8851.27, 21606.76, 15290.31, 1165.64, 781.52, 13148.95, 1721.9, 903.17, 4497.54, 772.66]\n[131.32, 1390.11, 1393.72, 1155.88, 1459.71, 3477.57, 770.6, 343.71, 3357.41, 2103.29]\n[11385.37, 2586.31, 2783.29, 83.31, 1177.38, 1440.52, 7409.07, 1254.33, 2888.5, 1376.22]\n[929.57, 6920.6, 1244.05, 1262.0, 3365.97, 4291.58, 471.35, 2213.43, 642.7, 4553.08]\n[12897.74, 3708.93, 1597.84, 803.77, 1220.64, 474.18, 10562.2, 2416.58, 97.14, 10322.44]\n[1171.19, 258.08, 7759.98, 7018.66, 9089.78, 1000.14, 2238.01, 16987.08, 1311.38, 311.83]\n[4139.56, 1100.97, 12897.74, 4429.05, 498.82, 1120.99, 890.95, 9113.74, 3868.2, 843.04]\n[436.16, 5224.7, 7340.54, 341.31, 2924.0, 8412.15, 4089.25, 10584.35, 510.23, 221.6]\n[12186.07, 3874.36, 2438.54, 1183.16, 5945.57, 898.58, 285.07, 418.8, 5000.36, 1716.33]\n[1098.17, 2034.54, 5803.0, 4000.18, 12423.9, 10426.37, 1670.16, 4171.21, 763.9, 1216.23]\n[6769.2, 49.82, 175.64, 11210.52, 7264.01, 14012.04, 1848.42, 148.44, 5881.15, 464.44]\n[1632.31, 498.21, 575.05, 10052.28, 450.81, 1621.84, 822.53, 126.64, 3105.95, 2574.48]\n[8971.17, 11065.88, 4476.31, 1189.43, 2960.21, 3347.36, 566.8, 2178.91, 1915.63, 479.49]\n[2686.21, 1812.56, 183.23, 2336.26, 2551.25, 651.94, 877.63, 8390.81, 515.62, 1439.28]\n[225.2, 1816.72, 882.46, 886.11, 3919.17, 4743.71, 1736.39, 4668.69, 264.18, 5905.72]\n[10144.65, 1028.84, 100.93, 4556.95, 530.64, 2279.85, 221.01, 3235.18, 11221.03, 18157.94]\n[5218.39, 1770.74, 14057.78, 1413.3, 6282.22, 74.49, 3282.82, 3831.77, 886.11, 755.61]\n[2686.62, 3672.9, 9089.02, 179.51, 1427.8, 2745.99, 5317.47, 1962.93, 1089.27, 9375.43]\n[3585.71, 3947.1, 1482.77, 7371.64, 16184.26, 11739.53, 5915.99, 10899.97, 11.97, 2542.87]\nNOWY WIERSZ HM\n[929.57, 1100.97, 882.46, 4000.18, 498.82, 3347.36, 471.35, 8390.81, 5000.36, 1439.28]\nwielkosc : 26061.16\nNOWY WIERSZ HM\n[5218.39, 49.82, 14057.78, 10052.28, 3919.17, 11200.64, 5317.47, 10584.35, 97.14, 772.66]\nwielkosc : 61269.700000000004\nPODMIENILEM\n[5218.39, 49.82, 14057.78, 10052.28, 3919.17, 11200.64, 5317.47, 10584.35, 97.14, 772.66]\nNA\n[5218.39, 49.82, 14057.78, 10052.28, 3919.17, 11200.64, 5317.47, 10584.35, 97.14, 772.66]\n"
     ]
    },
    {
     "output_type": "error",
     "ename": "IndexError",
     "evalue": "list index out of range",
     "traceback": [
      "\u001b[1;31m---------------------------------------------------------------------------\u001b[0m",
      "\u001b[1;31mIndexError\u001b[0m                                Traceback (most recent call last)",
      "\u001b[1;32m<ipython-input-1-b3a554c0513c>\u001b[0m in \u001b[0;36m<module>\u001b[1;34m\u001b[0m\n\u001b[0;32m     49\u001b[0m       \u001b[1;32mwhile\u001b[0m\u001b[1;33m(\u001b[0m\u001b[0mtemp\u001b[0m\u001b[1;33m<\u001b[0m\u001b[0mzakres_paczek_w_rozwiazaniu\u001b[0m\u001b[1;33m)\u001b[0m\u001b[1;33m:\u001b[0m\u001b[1;33m\u001b[0m\u001b[1;33m\u001b[0m\u001b[0m\n\u001b[0;32m     50\u001b[0m          \u001b[1;32mfor\u001b[0m \u001b[0mx\u001b[0m \u001b[1;32min\u001b[0m \u001b[0mrange\u001b[0m\u001b[1;33m(\u001b[0m\u001b[0mzakres_rozwiazan\u001b[0m\u001b[1;33m-\u001b[0m\u001b[1;36m1\u001b[0m\u001b[1;33m)\u001b[0m\u001b[1;33m:\u001b[0m\u001b[1;33m\u001b[0m\u001b[1;33m\u001b[0m\u001b[0m\n\u001b[1;32m---> 51\u001b[1;33m             \u001b[0mtemp_list\u001b[0m\u001b[1;33m.\u001b[0m\u001b[0mappend\u001b[0m\u001b[1;33m(\u001b[0m\u001b[0mhm\u001b[0m\u001b[1;33m[\u001b[0m\u001b[0mx\u001b[0m\u001b[1;33m]\u001b[0m\u001b[1;33m[\u001b[0m\u001b[0mtemp\u001b[0m\u001b[1;33m]\u001b[0m\u001b[1;33m)\u001b[0m\u001b[1;33m\u001b[0m\u001b[1;33m\u001b[0m\u001b[0m\n\u001b[0m\u001b[0;32m     52\u001b[0m          \u001b[0mvalue\u001b[0m\u001b[1;33m=\u001b[0m\u001b[0mrandom\u001b[0m\u001b[1;33m.\u001b[0m\u001b[0mchoice\u001b[0m\u001b[1;33m(\u001b[0m\u001b[0mtemp_list\u001b[0m\u001b[1;33m)\u001b[0m\u001b[1;33m\u001b[0m\u001b[1;33m\u001b[0m\u001b[0m\n\u001b[0;32m     53\u001b[0m          \u001b[1;32mif\u001b[0m\u001b[1;33m(\u001b[0m\u001b[0mcapacityCheck\u001b[0m\u001b[1;33m+\u001b[0m\u001b[0mvalue\u001b[0m\u001b[1;33m<=\u001b[0m\u001b[0mcapacityMax\u001b[0m\u001b[1;33m)\u001b[0m\u001b[1;33m:\u001b[0m\u001b[1;33m\u001b[0m\u001b[1;33m\u001b[0m\u001b[0m\n",
      "\u001b[1;31mIndexError\u001b[0m: list index out of range"
     ]
    }
   ],
   "source": [
    "import json\n",
    "import numpy\n",
    "import random\n",
    "\n",
    "def fitness(rowSize,capacityMax):\n",
    "   return capacityMax-rowSize\n",
    "\n",
    "zakres_rozwiazan=20\n",
    "zakres_paczek_w_rozwiazaniu=10\n",
    "hm = [] #harmonic memory\n",
    "hms = 20 \n",
    "fp = [] #funkcja przystosowania\n",
    "capacityMax=70000 #cm^3\n",
    "iter_hms=0\n",
    "hmcr=70\n",
    "temp=0;\n",
    "temp_list=[]\n",
    "new_hm_row=[]\n",
    "allData = [] # all json data 20000 records\n",
    "suma=0\n",
    "capacityCheck=0\n",
    "minFP=0\n",
    "maxFP=capacityMax\n",
    "\n",
    "\n",
    "with open('C:/Users/hubert1/Desktop/PWJS/Lab7_18869_Drzymalski/SI_GR11/hm.json') as f:\n",
    "   hm = json.load(f)\n",
    "\n",
    "\n",
    "with open('C:/Users/hubert1/Desktop/PWJS/Lab7_18869_Drzymalski/SI_GR11/dataSet.json') as f:\n",
    "   allData = json.load(f)\n",
    "\n",
    "for x in range(hms):\n",
    "    print(hm[x])\n",
    "\n",
    "\n",
    "iterator = 0\n",
    "while(iterator < hms):\n",
    "   for x in range(zakres_paczek_w_rozwiazaniu):\n",
    "      tempRR = hm[iterator][x]\n",
    "      suma = suma + tempRR\n",
    "   suma = round(suma,2)\n",
    "   fp.append(fitness(suma,capacityMax))\n",
    "   suma=0 \n",
    "   iterator = iterator + 1\n",
    "\n",
    "while(iter_hms<hms):\n",
    "   if(random.randint(1,100)<hmcr):\n",
    "      while(temp<zakres_paczek_w_rozwiazaniu):\n",
    "         for x in range(zakres_rozwiazan-1): \n",
    "            temp_list.append(hm[x][temp])\n",
    "         value=random.choice(temp_list)\n",
    "         if(capacityCheck+value<=capacityMax):\n",
    "            new_hm_row.append(value)\n",
    "            temp=temp+1\n",
    "            capacityCheck=capacityCheck+value\n",
    "         temp_list.clear()\n",
    "   else:\n",
    "      while(temp<zakres_paczek_w_rozwiazaniu):\n",
    "         randomNumber=random.randint(0,19999)\n",
    "         tempVolume=float(allData[randomNumber]['sizeX'])*float(allData[randomNumber]['sizeY'])*float(allData[randomNumber]['sizeZ'])\n",
    "         tempVolume=round(tempVolume,2)\n",
    "         if(capacityCheck+tempVolume<=capacityMax):\n",
    "            temp=temp+1\n",
    "            new_hm_row.append(tempVolume)\n",
    "            capacityCheck=capacityCheck+tempVolume\n",
    "         tempVolume=0\n",
    "   #dodaj porównywanie fitnesu nowego wiersza z starymi i jak bedzie lepszy to podmien w pamieci hm najgroszy z aktulanym\n",
    "   #wiersz w pamieci bedzie mial ten sam indeks co funckja porzystosowania\n",
    "   #zrobic cos z ograniczeniami bo slabo jest || DONE\n",
    "   print(\"NOWY WIERSZ HM\")\n",
    "   print(new_hm_row)\n",
    "   print(\"wielkosc : \"+str(capacityCheck))\n",
    "   difference=fitness(capacityCheck,capacityMax)\n",
    "   for x in range(len(fp)-2):\n",
    "      if(fp[x]>fp[x-1]):\n",
    "         minFP=fp[x]\n",
    "   if(difference<minFP):\n",
    "      hm[x]=new_hm_row\n",
    "      print(\"PODMIENILEM\")\n",
    "      print(hm[x])\n",
    "      print(\"NA\")\n",
    "      print(new_hm_row)\n",
    "   temp=0\n",
    "   new_hm_row.clear()\n",
    "   temp_list.clear()\n",
    "   iter_hms=iter_hms+1\n",
    "   capacityCheck=0\n",
    "print(fp)   "
   ]
  },
  {
   "cell_type": "code",
   "execution_count": null,
   "metadata": {},
   "outputs": [],
   "source": [
    "\n"
   ]
  }
 ],
 "metadata": {
  "kernelspec": {
   "display_name": "Python 3",
   "name": "python3",
   "language": "python"
  },
  "language_info": {
   "codemirror_mode": {
    "name": "ipython",
    "version": 3
   },
   "file_extension": ".py",
   "mimetype": "text/x-python",
   "name": "python",
   "nbconvert_exporter": "python",
   "pygments_lexer": "ipython3",
   "version": "3.7.3-final"
  },
  "metadata": {
   "interpreter": {
    "hash": "38740d3277777e2cd7c6c2cc9d8addf5118fdf3f82b1b39231fd12aeac8aee8b"
   }
  },
  "orig_nbformat": 2
 },
 "nbformat": 4,
 "nbformat_minor": 2
}