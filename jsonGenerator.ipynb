{
 "metadata": {
  "language_info": {
   "codemirror_mode": {
    "name": "ipython",
    "version": 3
   },
   "file_extension": ".py",
   "mimetype": "text/x-python",
   "name": "python",
   "nbconvert_exporter": "python",
   "pygments_lexer": "ipython3",
   "version": 3
  },
  "orig_nbformat": 2
 },
 "nbformat": 4,
 "nbformat_minor": 2,
 "cells": [
  {
   "cell_type": "code",
   "execution_count": null,
   "metadata": {},
   "outputs": [],
   "source": [
    "# temp=0;\n",
    "# sum=0;\n",
    "\n",
    "# zakres_rozwiazan=20\n",
    "# zakres_paczek_w_rozwiazaniu=10\n",
    "\n",
    "# with open('C:/Users/hubert1/Desktop/PWJS/Lab7_18869_Drzymalski/SI_GR11/dataSet.json') as f:\n",
    "#   data = json.load(f)\n",
    "\n",
    "# matrix_id = [[0]*zakres_paczek_w_rozwiazaniu for i in range(zakres_rozwiazan)]\n",
    "# matrix_size_each = [[0]*zakres_paczek_w_rozwiazaniu for i in range(zakres_rozwiazan)]\n",
    "\n",
    "for x in range(zakres_rozwiazan):\n",
    "    for y in range(zakres_paczek_w_rozwiazaniu):\n",
    "        matrix_id[x][y]=random.choice(data)['id']\n",
    "\n",
    "\n",
    "matrix_size=[[0]*1 for i in range(zakres_rozwiazan)]\n",
    "for x in range(zakres_rozwiazan):\n",
    "    for y in range(zakres_paczek_w_rozwiazaniu):\n",
    "        temp=float(data[matrix_id[x][y]]['sizeX'])*float(data[matrix_id[x][y]]['sizeY'])*float(data[matrix_id[x][y]]['sizeZ'])\n",
    "        temp=round(temp,2)\n",
    "        matrix_size_each[x][y]=temp\n",
    "        sum=sum+temp;\n",
    "    matrix_size[x][0]=sum\n",
    "    sum=0\n",
    "    temp=0\n",
    "\n",
    "# with open('hm.json', 'w') as f:\n",
    "#      json.dump(matrix_size_each, f)\n",
    "\n",
    "# print(\"ID\")\n",
    "# print(matrix_id)\n",
    "# print(\"\\n\")\n",
    "# print(\"WAGI KAZDEGO WIERSZA MACIERZY HM\")\n",
    "# print(matrix_size)\n",
    "# print(\"\\n\")\n",
    "# print(\"WAGI KAZDEJ PACZKI\")\n",
    "# print(matrix_size_each)\n",
    "# print(\"\\n\")"
   ]
  }
 ]
}